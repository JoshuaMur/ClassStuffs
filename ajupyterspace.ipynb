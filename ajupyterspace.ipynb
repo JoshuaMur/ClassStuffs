{
 "cells": [
  {
   "cell_type": "code",
   "execution_count": 7,
   "metadata": {},
   "outputs": [],
   "source": [
    "from typing import Dict, Text\n",
    "\n",
    "import numpy as np\n",
    "import tensorflow as tf\n",
    "import tensorflow_recommenders as tfrs\n",
    "import tensorflow_datasets as tfds"
   ]
  },
  {
   "cell_type": "code",
   "execution_count": 4,
   "metadata": {},
   "outputs": [
    {
     "name": "stderr",
     "output_type": "stream",
     "text": [
      "WARNING:absl:`TensorInfo.dtype` is deprecated. Please change your code to use NumPy with the field `TensorInfo.np_dtype` or use TensorFlow with the field `TensorInfo.tf_dtype`.\n",
      "WARNING:absl:You use TensorFlow DType <dtype: 'int64'> in tfds.features This will soon be deprecated in favor of NumPy DTypes. In the meantime it was converted to int64.\n",
      "2023-02-02 16:43:00.962517: I tensorflow/core/common_runtime/pluggable_device/pluggable_device_factory.cc:306] Could not identify NUMA node of platform GPU ID 0, defaulting to 0. Your kernel may not have been built with NUMA support.\n",
      "2023-02-02 16:43:00.963052: I tensorflow/core/common_runtime/pluggable_device/pluggable_device_factory.cc:272] Created TensorFlow device (/job:localhost/replica:0/task:0/device:GPU:0 with 0 MB memory) -> physical PluggableDevice (device: 0, name: METAL, pci bus id: <undefined>)\n",
      "WARNING:absl:`TensorInfo.dtype` is deprecated. Please change your code to use NumPy with the field `TensorInfo.np_dtype` or use TensorFlow with the field `TensorInfo.tf_dtype`.\n"
     ]
    },
    {
     "name": "stdout",
     "output_type": "stream",
     "text": [
      "Metal device set to: Apple M2\n",
      "\n",
      "systemMemory: 8.00 GB\n",
      "maxCacheSize: 2.67 GB\n",
      "\n"
     ]
    }
   ],
   "source": [
    "ratings = tfds.load('movielens/100k-ratings', split=\"train\")\n",
    "movies = tfds.load('movielens/100k-movies', split=\"train\")"
   ]
  },
  {
   "cell_type": "code",
   "execution_count": 46,
   "metadata": {},
   "outputs": [
    {
     "name": "stdout",
     "output_type": "stream",
     "text": [
      "{'movie_title': b\"One Flew Over the Cuckoo's Nest (1975)\", 'user_id': b'138'}\n",
      "{'movie_title': b'Strictly Ballroom (1992)', 'user_id': b'92'}\n"
     ]
    }
   ],
   "source": [
    "for x in ratings.take(2).as_numpy_iterator():\n",
    "  print(x)"
   ]
  },
  {
   "cell_type": "code",
   "execution_count": 48,
   "metadata": {},
   "outputs": [
    {
     "name": "stdout",
     "output_type": "stream",
     "text": [
      "b'You So Crazy (1994)'\n",
      "b'Love Is All There Is (1996)'\n"
     ]
    }
   ],
   "source": [
    "for x in movies.take(2).as_numpy_iterator():\n",
    "  print(x)"
   ]
  },
  {
   "cell_type": "code",
   "execution_count": 5,
   "metadata": {},
   "outputs": [
    {
     "name": "stdout",
     "output_type": "stream",
     "text": [
      "WARNING:tensorflow:From /Users/thejoshverse/TheGitVerse/ClassStuffs/ClasseStuffs/lib/python3.9/site-packages/tensorflow/python/autograph/pyct/static_analysis/liveness.py:83: Analyzer.lamba_check (from tensorflow.python.autograph.pyct.static_analysis.liveness) is deprecated and will be removed after 2023-09-23.\n",
      "Instructions for updating:\n",
      "Lambda fuctions will be no more assumed to be used in the statement where they are used, or at least in the same block. https://github.com/tensorflow/tensorflow/issues/56089\n"
     ]
    },
    {
     "name": "stderr",
     "output_type": "stream",
     "text": [
      "WARNING:tensorflow:From /Users/thejoshverse/TheGitVerse/ClassStuffs/ClasseStuffs/lib/python3.9/site-packages/tensorflow/python/autograph/pyct/static_analysis/liveness.py:83: Analyzer.lamba_check (from tensorflow.python.autograph.pyct.static_analysis.liveness) is deprecated and will be removed after 2023-09-23.\n",
      "Instructions for updating:\n",
      "Lambda fuctions will be no more assumed to be used in the statement where they are used, or at least in the same block. https://github.com/tensorflow/tensorflow/issues/56089\n"
     ]
    }
   ],
   "source": [
    "ratings = ratings.map(lambda x: {\n",
    "    \"movie_title\": x[\"movie_title\"],\n",
    "    \"user_id\": x[\"user_id\"]\n",
    "})\n",
    "\n",
    "movies = movies.map(lambda x: x[\"movie_title\"])"
   ]
  },
  {
   "cell_type": "code",
   "execution_count": 49,
   "metadata": {},
   "outputs": [],
   "source": [
    "#Splittinng the data\n",
    "\n",
    "tf.random.set_seed(42)\n",
    "shuffled = ratings.shuffle(100_000, seed=42, reshuffle_each_iteration=False)\n",
    "\n",
    "train = shuffled.take(80_000)\n",
    "test = shuffled.skip(80_000).take(20_000)"
   ]
  },
  {
   "cell_type": "code",
   "execution_count": 53,
   "metadata": {},
   "outputs": [
    {
     "data": {
      "text/plain": [
       "array([b'1', b'10', b'100', b'101', b'102', b'103', b'104', b'105',\n",
       "       b'106', b'107', b'108'], dtype=object)"
      ]
     },
     "execution_count": 53,
     "metadata": {},
     "output_type": "execute_result"
    }
   ],
   "source": [
    "movie_titles = movies.batch(1_000)\n",
    "user_ids = ratings.batch(1_000_000).map(lambda x: x[\"user_id\"])\n",
    "\n",
    "unique_movie_titles = np.unique(np.concatenate(list(movie_titles)))\n",
    "unique_user_ids = np.unique(np.concatenate(list(user_ids)))\n",
    "\n",
    "unique_user_ids[:11]"
   ]
  },
  {
   "cell_type": "code",
   "execution_count": 55,
   "metadata": {},
   "outputs": [],
   "source": [
    "#Implementing the Model\n",
    "\n",
    "\n",
    "embedding_dimension = 32\n",
    "\n",
    "#User model\n",
    "user_model = tf.keras.Sequential([\n",
    "  tf.keras.layers.StringLookup(\n",
    "      vocabulary=unique_user_ids, mask_token=None),\n",
    "  # We add an additional embedding to account for unknown tokens.\n",
    "  tf.keras.layers.Embedding(len(unique_user_ids) + 1, embedding_dimension)\n",
    "])\n"
   ]
  },
  {
   "cell_type": "code",
   "execution_count": 58,
   "metadata": {},
   "outputs": [],
   "source": [
    "#Movie Model\n",
    "movie_model = tf.keras.Sequential([\n",
    "  tf.keras.layers.StringLookup(\n",
    "      vocabulary=unique_movie_titles, mask_token=None),\n",
    "  tf.keras.layers.Embedding(len(unique_movie_titles) + 1, embedding_dimension)\n",
    "])"
   ]
  },
  {
   "cell_type": "code",
   "execution_count": 59,
   "metadata": {},
   "outputs": [],
   "source": [
    "metrics = tfrs.metrics.FactorizedTopK(\n",
    "  candidates=movies.batch(128).map(movie_model)\n",
    ")"
   ]
  },
  {
   "cell_type": "code",
   "execution_count": 63,
   "metadata": {},
   "outputs": [],
   "source": [
    "task = tfrs.tasks.Retrieval(\n",
    "  metrics=metrics\n",
    ")"
   ]
  },
  {
   "cell_type": "code",
   "execution_count": 65,
   "metadata": {},
   "outputs": [],
   "source": [
    "class MovielensModel(tfrs.Model):\n",
    "\n",
    "  def __init__(self, user_model, movie_model):\n",
    "    super().__init__()\n",
    "    self.movie_model: tf.keras.Model = movie_model\n",
    "    self.user_model: tf.keras.Model = user_model\n",
    "    self.task: tf.keras.layers.Layer = task\n",
    "\n",
    "  def compute_loss(self, features: Dict[Text, tf.Tensor], training=False) -> tf.Tensor:\n",
    "    # We pick out the user features and pass them into the user model.\n",
    "    user_embeddings = self.user_model(features[\"user_id\"])\n",
    "    # And pick out the movie features and pass them into the movie model,\n",
    "    # getting embeddings back.\n",
    "    positive_movie_embeddings = self.movie_model(features[\"movie_title\"])\n",
    "\n",
    "    # The task computes the loss and the metrics.\n",
    "    return self.task(user_embeddings, positive_movie_embeddings)"
   ]
  },
  {
   "cell_type": "code",
   "execution_count": 77,
   "metadata": {},
   "outputs": [],
   "source": [
    "model = MovielensModel(user_model, movie_model)\n",
    "model.compile(optimizer=tf.keras.optimizers.legacy.Adam(learning_rate=0.1))"
   ]
  },
  {
   "cell_type": "code",
   "execution_count": 75,
   "metadata": {},
   "outputs": [],
   "source": [
    "cached_train = train.shuffle(100_000).batch(8192).cache()\n",
    "cached_test = test.batch(4096).cache()"
   ]
  },
  {
   "cell_type": "code",
   "execution_count": 78,
   "metadata": {},
   "outputs": [
    {
     "name": "stdout",
     "output_type": "stream",
     "text": [
      "Epoch 1/3\n",
      "WARNING:tensorflow:Gradients do not exist for variables ['counter:0'] when minimizing the loss. If you're using `model.compile()`, did you forget to provide a `loss` argument?\n"
     ]
    },
    {
     "name": "stderr",
     "output_type": "stream",
     "text": [
      "WARNING:tensorflow:Gradients do not exist for variables ['counter:0'] when minimizing the loss. If you're using `model.compile()`, did you forget to provide a `loss` argument?\n"
     ]
    },
    {
     "name": "stdout",
     "output_type": "stream",
     "text": [
      "WARNING:tensorflow:Gradients do not exist for variables ['counter:0'] when minimizing the loss. If you're using `model.compile()`, did you forget to provide a `loss` argument?\n"
     ]
    },
    {
     "name": "stderr",
     "output_type": "stream",
     "text": [
      "WARNING:tensorflow:Gradients do not exist for variables ['counter:0'] when minimizing the loss. If you're using `model.compile()`, did you forget to provide a `loss` argument?\n",
      "2023-02-07 20:41:52.174134: I tensorflow/core/grappler/optimizers/custom_graph_optimizer_registry.cc:114] Plugin optimizer for device_type GPU is enabled.\n",
      "2023-02-07 20:41:52.723907: I tensorflow/core/grappler/optimizers/custom_graph_optimizer_registry.cc:114] Plugin optimizer for device_type GPU is enabled.\n",
      "2023-02-07 20:41:52.747474: I tensorflow/core/grappler/optimizers/custom_graph_optimizer_registry.cc:114] Plugin optimizer for device_type GPU is enabled.\n"
     ]
    },
    {
     "name": "stdout",
     "output_type": "stream",
     "text": [
      " 1/10 [==>...........................] - ETA: 47s - factorized_top_k/top_1_categorical_accuracy: 0.0000e+00 - factorized_top_k/top_5_categorical_accuracy: 0.0013 - factorized_top_k/top_10_categorical_accuracy: 0.0032 - factorized_top_k/top_50_categorical_accuracy: 0.3876 - factorized_top_k/top_100_categorical_accuracy: 0.4979 - loss: 73817.4531 - regularization_loss: 0.0000e+00 - total_loss: 73817.4531"
     ]
    },
    {
     "name": "stderr",
     "output_type": "stream",
     "text": [
      "2023-02-07 20:41:55.592471: I tensorflow/core/grappler/optimizers/custom_graph_optimizer_registry.cc:114] Plugin optimizer for device_type GPU is enabled.\n",
      "2023-02-07 20:41:55.622063: I tensorflow/core/grappler/optimizers/custom_graph_optimizer_registry.cc:114] Plugin optimizer for device_type GPU is enabled.\n"
     ]
    },
    {
     "name": "stdout",
     "output_type": "stream",
     "text": [
      " 2/10 [=====>........................] - ETA: 5s - factorized_top_k/top_1_categorical_accuracy: 0.0000e+00 - factorized_top_k/top_5_categorical_accuracy: 6.7139e-04 - factorized_top_k/top_10_categorical_accuracy: 0.0020 - factorized_top_k/top_50_categorical_accuracy: 0.3874 - factorized_top_k/top_100_categorical_accuracy: 0.4971 - loss: 73827.0156 - regularization_loss: 0.0000e+00 - total_loss: 73827.0156"
     ]
    },
    {
     "name": "stderr",
     "output_type": "stream",
     "text": [
      "2023-02-07 20:41:56.277849: I tensorflow/core/grappler/optimizers/custom_graph_optimizer_registry.cc:114] Plugin optimizer for device_type GPU is enabled.\n",
      "2023-02-07 20:41:56.299884: I tensorflow/core/grappler/optimizers/custom_graph_optimizer_registry.cc:114] Plugin optimizer for device_type GPU is enabled.\n"
     ]
    },
    {
     "name": "stdout",
     "output_type": "stream",
     "text": [
      " 3/10 [========>.....................] - ETA: 4s - factorized_top_k/top_1_categorical_accuracy: 0.0000e+00 - factorized_top_k/top_5_categorical_accuracy: 4.8828e-04 - factorized_top_k/top_10_categorical_accuracy: 0.0015 - factorized_top_k/top_50_categorical_accuracy: 0.3865 - factorized_top_k/top_100_categorical_accuracy: 0.4210 - loss: 73850.8932 - regularization_loss: 0.0000e+00 - total_loss: 73850.8932"
     ]
    },
    {
     "name": "stderr",
     "output_type": "stream",
     "text": [
      "2023-02-07 20:41:56.810542: I tensorflow/core/grappler/optimizers/custom_graph_optimizer_registry.cc:114] Plugin optimizer for device_type GPU is enabled.\n",
      "2023-02-07 20:41:56.835279: I tensorflow/core/grappler/optimizers/custom_graph_optimizer_registry.cc:114] Plugin optimizer for device_type GPU is enabled.\n"
     ]
    },
    {
     "name": "stdout",
     "output_type": "stream",
     "text": [
      " 4/10 [===========>..................] - ETA: 3s - factorized_top_k/top_1_categorical_accuracy: 0.0000e+00 - factorized_top_k/top_5_categorical_accuracy: 4.8828e-04 - factorized_top_k/top_10_categorical_accuracy: 0.0016 - factorized_top_k/top_50_categorical_accuracy: 0.3892 - factorized_top_k/top_100_categorical_accuracy: 0.4419 - loss: 73866.5859 - regularization_loss: 0.0000e+00 - total_loss: 73866.5859"
     ]
    },
    {
     "name": "stderr",
     "output_type": "stream",
     "text": [
      "2023-02-07 20:41:57.378338: I tensorflow/core/grappler/optimizers/custom_graph_optimizer_registry.cc:114] Plugin optimizer for device_type GPU is enabled.\n",
      "2023-02-07 20:41:57.401911: I tensorflow/core/grappler/optimizers/custom_graph_optimizer_registry.cc:114] Plugin optimizer for device_type GPU is enabled.\n"
     ]
    },
    {
     "name": "stdout",
     "output_type": "stream",
     "text": [
      " 5/10 [==============>...............] - ETA: 2s - factorized_top_k/top_1_categorical_accuracy: 0.0000e+00 - factorized_top_k/top_5_categorical_accuracy: 5.3711e-04 - factorized_top_k/top_10_categorical_accuracy: 0.0016 - factorized_top_k/top_50_categorical_accuracy: 0.3921 - factorized_top_k/top_100_categorical_accuracy: 0.4568 - loss: 73878.5656 - regularization_loss: 0.0000e+00 - total_loss: 73878.5656"
     ]
    },
    {
     "name": "stderr",
     "output_type": "stream",
     "text": [
      "2023-02-07 20:41:57.917547: I tensorflow/core/grappler/optimizers/custom_graph_optimizer_registry.cc:114] Plugin optimizer for device_type GPU is enabled.\n",
      "2023-02-07 20:41:57.942649: I tensorflow/core/grappler/optimizers/custom_graph_optimizer_registry.cc:114] Plugin optimizer for device_type GPU is enabled.\n"
     ]
    },
    {
     "name": "stdout",
     "output_type": "stream",
     "text": [
      " 6/10 [=================>............] - ETA: 2s - factorized_top_k/top_1_categorical_accuracy: 4.0690e-05 - factorized_top_k/top_5_categorical_accuracy: 6.7139e-04 - factorized_top_k/top_10_categorical_accuracy: 0.0020 - factorized_top_k/top_50_categorical_accuracy: 0.3990 - factorized_top_k/top_100_categorical_accuracy: 0.4284 - loss: 73864.7409 - regularization_loss: 0.0000e+00 - total_loss: 73864.7409"
     ]
    },
    {
     "name": "stderr",
     "output_type": "stream",
     "text": [
      "2023-02-07 20:41:58.465173: I tensorflow/core/grappler/optimizers/custom_graph_optimizer_registry.cc:114] Plugin optimizer for device_type GPU is enabled.\n",
      "2023-02-07 20:41:58.487940: I tensorflow/core/grappler/optimizers/custom_graph_optimizer_registry.cc:114] Plugin optimizer for device_type GPU is enabled.\n"
     ]
    },
    {
     "name": "stdout",
     "output_type": "stream",
     "text": [
      " 7/10 [====================>.........] - ETA: 1s - factorized_top_k/top_1_categorical_accuracy: 3.4877e-05 - factorized_top_k/top_5_categorical_accuracy: 7.3242e-04 - factorized_top_k/top_10_categorical_accuracy: 0.0022 - factorized_top_k/top_50_categorical_accuracy: 0.4078 - factorized_top_k/top_100_categorical_accuracy: 0.4506 - loss: 73834.2321 - regularization_loss: 0.0000e+00 - total_loss: 73834.2321"
     ]
    },
    {
     "name": "stderr",
     "output_type": "stream",
     "text": [
      "2023-02-07 20:41:59.030499: I tensorflow/core/grappler/optimizers/custom_graph_optimizer_registry.cc:114] Plugin optimizer for device_type GPU is enabled.\n",
      "2023-02-07 20:41:59.068033: I tensorflow/core/grappler/optimizers/custom_graph_optimizer_registry.cc:114] Plugin optimizer for device_type GPU is enabled.\n"
     ]
    },
    {
     "name": "stdout",
     "output_type": "stream",
     "text": [
      " 8/10 [=======================>......] - ETA: 1s - factorized_top_k/top_1_categorical_accuracy: 3.0518e-05 - factorized_top_k/top_5_categorical_accuracy: 8.2397e-04 - factorized_top_k/top_10_categorical_accuracy: 0.0025 - factorized_top_k/top_50_categorical_accuracy: 0.4202 - factorized_top_k/top_100_categorical_accuracy: 0.4312 - loss: 73766.6309 - regularization_loss: 0.0000e+00 - total_loss: 73766.6309"
     ]
    },
    {
     "name": "stderr",
     "output_type": "stream",
     "text": [
      "2023-02-07 20:41:59.600356: I tensorflow/core/grappler/optimizers/custom_graph_optimizer_registry.cc:114] Plugin optimizer for device_type GPU is enabled.\n",
      "2023-02-07 20:41:59.624950: I tensorflow/core/grappler/optimizers/custom_graph_optimizer_registry.cc:114] Plugin optimizer for device_type GPU is enabled.\n"
     ]
    },
    {
     "name": "stdout",
     "output_type": "stream",
     "text": [
      " 9/10 [==========================>...] - ETA: 0s - factorized_top_k/top_1_categorical_accuracy: 4.0690e-05 - factorized_top_k/top_5_categorical_accuracy: 0.0011 - factorized_top_k/top_10_categorical_accuracy: 0.0030 - factorized_top_k/top_50_categorical_accuracy: 0.4333 - factorized_top_k/top_100_categorical_accuracy: 0.4199 - loss: 73683.9306 - regularization_loss: 0.0000e+00 - total_loss: 73683.9306    "
     ]
    },
    {
     "name": "stderr",
     "output_type": "stream",
     "text": [
      "2023-02-07 20:42:00.139876: I tensorflow/core/grappler/optimizers/custom_graph_optimizer_registry.cc:114] Plugin optimizer for device_type GPU is enabled.\n",
      "2023-02-07 20:42:00.167547: I tensorflow/core/grappler/optimizers/custom_graph_optimizer_registry.cc:114] Plugin optimizer for device_type GPU is enabled.\n"
     ]
    },
    {
     "name": "stdout",
     "output_type": "stream",
     "text": [
      "10/10 [==============================] - 10s 569ms/step - factorized_top_k/top_1_categorical_accuracy: 6.2500e-05 - factorized_top_k/top_5_categorical_accuracy: 0.0013 - factorized_top_k/top_10_categorical_accuracy: 0.0034 - factorized_top_k/top_50_categorical_accuracy: 0.4452 - factorized_top_k/top_100_categorical_accuracy: 0.4429 - loss: 70084.5312 - regularization_loss: 0.0000e+00 - total_loss: 70084.5312\n",
      "Epoch 2/3\n"
     ]
    },
    {
     "name": "stderr",
     "output_type": "stream",
     "text": [
      "2023-02-07 20:42:00.700368: I tensorflow/core/grappler/optimizers/custom_graph_optimizer_registry.cc:114] Plugin optimizer for device_type GPU is enabled.\n",
      "2023-02-07 20:42:00.741717: I tensorflow/core/grappler/optimizers/custom_graph_optimizer_registry.cc:114] Plugin optimizer for device_type GPU is enabled.\n"
     ]
    },
    {
     "name": "stdout",
     "output_type": "stream",
     "text": [
      " 1/10 [==>...........................] - ETA: 5s - factorized_top_k/top_1_categorical_accuracy: 2.4414e-04 - factorized_top_k/top_5_categorical_accuracy: 0.0029 - factorized_top_k/top_10_categorical_accuracy: 0.0071 - factorized_top_k/top_50_categorical_accuracy: 0.6204 - factorized_top_k/top_100_categorical_accuracy: 0.7493 - loss: 72147.3438 - regularization_loss: 0.0000e+00 - total_loss: 72147.3438"
     ]
    },
    {
     "name": "stderr",
     "output_type": "stream",
     "text": [
      "2023-02-07 20:42:01.307796: I tensorflow/core/grappler/optimizers/custom_graph_optimizer_registry.cc:114] Plugin optimizer for device_type GPU is enabled.\n",
      "2023-02-07 20:42:01.332282: I tensorflow/core/grappler/optimizers/custom_graph_optimizer_registry.cc:114] Plugin optimizer for device_type GPU is enabled.\n"
     ]
    },
    {
     "name": "stdout",
     "output_type": "stream",
     "text": [
      " 2/10 [=====>........................] - ETA: 4s - factorized_top_k/top_1_categorical_accuracy: 1.8311e-04 - factorized_top_k/top_5_categorical_accuracy: 0.0051 - factorized_top_k/top_10_categorical_accuracy: 0.0123 - factorized_top_k/top_50_categorical_accuracy: 0.6483 - factorized_top_k/top_100_categorical_accuracy: 0.6241 - loss: 71478.7031 - regularization_loss: 0.0000e+00 - total_loss: 71478.7031"
     ]
    },
    {
     "name": "stderr",
     "output_type": "stream",
     "text": [
      "2023-02-07 20:42:01.858712: I tensorflow/core/grappler/optimizers/custom_graph_optimizer_registry.cc:114] Plugin optimizer for device_type GPU is enabled.\n",
      "2023-02-07 20:42:01.880764: I tensorflow/core/grappler/optimizers/custom_graph_optimizer_registry.cc:114] Plugin optimizer for device_type GPU is enabled.\n"
     ]
    },
    {
     "name": "stdout",
     "output_type": "stream",
     "text": [
      " 3/10 [========>.....................] - ETA: 3s - factorized_top_k/top_1_categorical_accuracy: 7.7311e-04 - factorized_top_k/top_5_categorical_accuracy: 0.0100 - factorized_top_k/top_10_categorical_accuracy: 0.0203 - factorized_top_k/top_50_categorical_accuracy: 0.6669 - factorized_top_k/top_100_categorical_accuracy: 0.6718 - loss: 71080.3750 - regularization_loss: 0.0000e+00 - total_loss: 71080.3750"
     ]
    },
    {
     "name": "stderr",
     "output_type": "stream",
     "text": [
      "2023-02-07 20:42:02.404530: I tensorflow/core/grappler/optimizers/custom_graph_optimizer_registry.cc:114] Plugin optimizer for device_type GPU is enabled.\n",
      "2023-02-07 20:42:02.426193: I tensorflow/core/grappler/optimizers/custom_graph_optimizer_registry.cc:114] Plugin optimizer for device_type GPU is enabled.\n"
     ]
    },
    {
     "name": "stdout",
     "output_type": "stream",
     "text": [
      " 4/10 [===========>..................] - ETA: 3s - factorized_top_k/top_1_categorical_accuracy: 7.0190e-04 - factorized_top_k/top_5_categorical_accuracy: 0.0108 - factorized_top_k/top_10_categorical_accuracy: 0.0230 - factorized_top_k/top_50_categorical_accuracy: 0.6804 - factorized_top_k/top_100_categorical_accuracy: 0.6527 - loss: 70716.0430 - regularization_loss: 0.0000e+00 - total_loss: 70716.0430"
     ]
    },
    {
     "name": "stderr",
     "output_type": "stream",
     "text": [
      "2023-02-07 20:42:02.970746: I tensorflow/core/grappler/optimizers/custom_graph_optimizer_registry.cc:114] Plugin optimizer for device_type GPU is enabled.\n",
      "2023-02-07 20:42:03.007711: I tensorflow/core/grappler/optimizers/custom_graph_optimizer_registry.cc:114] Plugin optimizer for device_type GPU is enabled.\n"
     ]
    },
    {
     "name": "stdout",
     "output_type": "stream",
     "text": [
      " 5/10 [==============>...............] - ETA: 2s - factorized_top_k/top_1_categorical_accuracy: 8.0566e-04 - factorized_top_k/top_5_categorical_accuracy: 0.0120 - factorized_top_k/top_10_categorical_accuracy: 0.0250 - factorized_top_k/top_50_categorical_accuracy: 0.6882 - factorized_top_k/top_100_categorical_accuracy: 0.6455 - loss: 70474.9984 - regularization_loss: 0.0000e+00 - total_loss: 70474.9984"
     ]
    },
    {
     "name": "stderr",
     "output_type": "stream",
     "text": [
      "2023-02-07 20:42:03.539751: I tensorflow/core/grappler/optimizers/custom_graph_optimizer_registry.cc:114] Plugin optimizer for device_type GPU is enabled.\n",
      "2023-02-07 20:42:03.562224: I tensorflow/core/grappler/optimizers/custom_graph_optimizer_registry.cc:114] Plugin optimizer for device_type GPU is enabled.\n"
     ]
    },
    {
     "name": "stdout",
     "output_type": "stream",
     "text": [
      " 6/10 [=================>............] - ETA: 2s - factorized_top_k/top_1_categorical_accuracy: 7.9346e-04 - factorized_top_k/top_5_categorical_accuracy: 0.0120 - factorized_top_k/top_10_categorical_accuracy: 0.0257 - factorized_top_k/top_50_categorical_accuracy: 0.6953 - factorized_top_k/top_100_categorical_accuracy: 0.6422 - loss: 70291.6276 - regularization_loss: 0.0000e+00 - total_loss: 70291.6276"
     ]
    },
    {
     "name": "stderr",
     "output_type": "stream",
     "text": [
      "2023-02-07 20:42:04.080715: I tensorflow/core/grappler/optimizers/custom_graph_optimizer_registry.cc:114] Plugin optimizer for device_type GPU is enabled.\n",
      "2023-02-07 20:42:04.104372: I tensorflow/core/grappler/optimizers/custom_graph_optimizer_registry.cc:114] Plugin optimizer for device_type GPU is enabled.\n"
     ]
    },
    {
     "name": "stdout",
     "output_type": "stream",
     "text": [
      " 7/10 [====================>.........] - ETA: 1s - factorized_top_k/top_1_categorical_accuracy: 8.8937e-04 - factorized_top_k/top_5_categorical_accuracy: 0.0126 - factorized_top_k/top_10_categorical_accuracy: 0.0270 - factorized_top_k/top_50_categorical_accuracy: 0.7005 - factorized_top_k/top_100_categorical_accuracy: 0.6390 - loss: 70173.2500 - regularization_loss: 0.0000e+00 - total_loss: 70173.2500"
     ]
    },
    {
     "name": "stderr",
     "output_type": "stream",
     "text": [
      "2023-02-07 20:42:04.637631: I tensorflow/core/grappler/optimizers/custom_graph_optimizer_registry.cc:114] Plugin optimizer for device_type GPU is enabled.\n",
      "2023-02-07 20:42:04.658900: I tensorflow/core/grappler/optimizers/custom_graph_optimizer_registry.cc:114] Plugin optimizer for device_type GPU is enabled.\n"
     ]
    },
    {
     "name": "stdout",
     "output_type": "stream",
     "text": [
      " 8/10 [=======================>......] - ETA: 1s - factorized_top_k/top_1_categorical_accuracy: 8.6975e-04 - factorized_top_k/top_5_categorical_accuracy: 0.0126 - factorized_top_k/top_10_categorical_accuracy: 0.0269 - factorized_top_k/top_50_categorical_accuracy: 0.7050 - factorized_top_k/top_100_categorical_accuracy: 0.6387 - loss: 70063.3604 - regularization_loss: 0.0000e+00 - total_loss: 70063.3604"
     ]
    },
    {
     "name": "stderr",
     "output_type": "stream",
     "text": [
      "2023-02-07 20:42:05.165525: I tensorflow/core/grappler/optimizers/custom_graph_optimizer_registry.cc:114] Plugin optimizer for device_type GPU is enabled.\n",
      "2023-02-07 20:42:05.193388: I tensorflow/core/grappler/optimizers/custom_graph_optimizer_registry.cc:114] Plugin optimizer for device_type GPU is enabled.\n"
     ]
    },
    {
     "name": "stdout",
     "output_type": "stream",
     "text": [
      " 9/10 [==========================>...] - ETA: 0s - factorized_top_k/top_1_categorical_accuracy: 9.4944e-04 - factorized_top_k/top_5_categorical_accuracy: 0.0129 - factorized_top_k/top_10_categorical_accuracy: 0.0274 - factorized_top_k/top_50_categorical_accuracy: 0.7076 - factorized_top_k/top_100_categorical_accuracy: 0.6627 - loss: 69991.0799 - regularization_loss: 0.0000e+00 - total_loss: 69991.0799"
     ]
    },
    {
     "name": "stderr",
     "output_type": "stream",
     "text": [
      "2023-02-07 20:42:05.733744: I tensorflow/core/grappler/optimizers/custom_graph_optimizer_registry.cc:114] Plugin optimizer for device_type GPU is enabled.\n",
      "2023-02-07 20:42:05.753645: I tensorflow/core/grappler/optimizers/custom_graph_optimizer_registry.cc:114] Plugin optimizer for device_type GPU is enabled.\n"
     ]
    },
    {
     "name": "stdout",
     "output_type": "stream",
     "text": [
      "10/10 [==============================] - 6s 550ms/step - factorized_top_k/top_1_categorical_accuracy: 9.6250e-04 - factorized_top_k/top_5_categorical_accuracy: 0.0128 - factorized_top_k/top_10_categorical_accuracy: 0.0274 - factorized_top_k/top_50_categorical_accuracy: 0.7095 - factorized_top_k/top_100_categorical_accuracy: 0.6614 - loss: 66612.3473 - regularization_loss: 0.0000e+00 - total_loss: 66612.3473\n",
      "Epoch 3/3\n"
     ]
    },
    {
     "name": "stderr",
     "output_type": "stream",
     "text": [
      "2023-02-07 20:42:06.257424: I tensorflow/core/grappler/optimizers/custom_graph_optimizer_registry.cc:114] Plugin optimizer for device_type GPU is enabled.\n",
      "2023-02-07 20:42:06.278864: I tensorflow/core/grappler/optimizers/custom_graph_optimizer_registry.cc:114] Plugin optimizer for device_type GPU is enabled.\n"
     ]
    },
    {
     "name": "stdout",
     "output_type": "stream",
     "text": [
      " 1/10 [==>...........................] - ETA: 5s - factorized_top_k/top_1_categorical_accuracy: 0.0020 - factorized_top_k/top_5_categorical_accuracy: 0.0155 - factorized_top_k/top_10_categorical_accuracy: 0.0344 - factorized_top_k/top_50_categorical_accuracy: 0.7456 - factorized_top_k/top_100_categorical_accuracy: 0.8724 - loss: 68906.7109 - regularization_loss: 0.0000e+00 - total_loss: 68906.7109"
     ]
    },
    {
     "name": "stderr",
     "output_type": "stream",
     "text": [
      "2023-02-07 20:42:06.815814: I tensorflow/core/grappler/optimizers/custom_graph_optimizer_registry.cc:114] Plugin optimizer for device_type GPU is enabled.\n",
      "2023-02-07 20:42:06.837920: I tensorflow/core/grappler/optimizers/custom_graph_optimizer_registry.cc:114] Plugin optimizer for device_type GPU is enabled.\n"
     ]
    },
    {
     "name": "stdout",
     "output_type": "stream",
     "text": [
      " 2/10 [=====>........................] - ETA: 4s - factorized_top_k/top_1_categorical_accuracy: 0.0019 - factorized_top_k/top_5_categorical_accuracy: 0.0185 - factorized_top_k/top_10_categorical_accuracy: 0.0394 - factorized_top_k/top_50_categorical_accuracy: 0.7538 - factorized_top_k/top_100_categorical_accuracy: 0.8810 - loss: 68445.4141 - regularization_loss: 0.0000e+00 - total_loss: 68445.4141"
     ]
    },
    {
     "name": "stderr",
     "output_type": "stream",
     "text": [
      "2023-02-07 20:42:07.348909: I tensorflow/core/grappler/optimizers/custom_graph_optimizer_registry.cc:114] Plugin optimizer for device_type GPU is enabled.\n",
      "2023-02-07 20:42:07.372535: I tensorflow/core/grappler/optimizers/custom_graph_optimizer_registry.cc:114] Plugin optimizer for device_type GPU is enabled.\n"
     ]
    },
    {
     "name": "stdout",
     "output_type": "stream",
     "text": [
      " 3/10 [========>.....................] - ETA: 3s - factorized_top_k/top_1_categorical_accuracy: 0.0024 - factorized_top_k/top_5_categorical_accuracy: 0.0203 - factorized_top_k/top_10_categorical_accuracy: 0.0415 - factorized_top_k/top_50_categorical_accuracy: 0.7590 - factorized_top_k/top_100_categorical_accuracy: 0.8133 - loss: 68281.9427 - regularization_loss: 0.0000e+00 - total_loss: 68281.9427"
     ]
    },
    {
     "name": "stderr",
     "output_type": "stream",
     "text": [
      "2023-02-07 20:42:07.963010: I tensorflow/core/grappler/optimizers/custom_graph_optimizer_registry.cc:114] Plugin optimizer for device_type GPU is enabled.\n",
      "2023-02-07 20:42:07.983568: I tensorflow/core/grappler/optimizers/custom_graph_optimizer_registry.cc:114] Plugin optimizer for device_type GPU is enabled.\n"
     ]
    },
    {
     "name": "stdout",
     "output_type": "stream",
     "text": [
      " 4/10 [===========>..................] - ETA: 3s - factorized_top_k/top_1_categorical_accuracy: 0.0027 - factorized_top_k/top_5_categorical_accuracy: 0.0219 - factorized_top_k/top_10_categorical_accuracy: 0.0438 - factorized_top_k/top_50_categorical_accuracy: 0.7625 - factorized_top_k/top_100_categorical_accuracy: 0.8354 - loss: 68118.5703 - regularization_loss: 0.0000e+00 - total_loss: 68118.5703"
     ]
    },
    {
     "name": "stderr",
     "output_type": "stream",
     "text": [
      "2023-02-07 20:42:08.495595: I tensorflow/core/grappler/optimizers/custom_graph_optimizer_registry.cc:114] Plugin optimizer for device_type GPU is enabled.\n",
      "2023-02-07 20:42:08.516732: I tensorflow/core/grappler/optimizers/custom_graph_optimizer_registry.cc:114] Plugin optimizer for device_type GPU is enabled.\n"
     ]
    },
    {
     "name": "stdout",
     "output_type": "stream",
     "text": [
      " 5/10 [==============>...............] - ETA: 2s - factorized_top_k/top_1_categorical_accuracy: 0.0026 - factorized_top_k/top_5_categorical_accuracy: 0.0224 - factorized_top_k/top_10_categorical_accuracy: 0.0447 - factorized_top_k/top_50_categorical_accuracy: 0.7629 - factorized_top_k/top_100_categorical_accuracy: 0.8479 - loss: 68037.1719 - regularization_loss: 0.0000e+00 - total_loss: 68037.1719"
     ]
    },
    {
     "name": "stderr",
     "output_type": "stream",
     "text": [
      "2023-02-07 20:42:09.025292: I tensorflow/core/grappler/optimizers/custom_graph_optimizer_registry.cc:114] Plugin optimizer for device_type GPU is enabled.\n",
      "2023-02-07 20:42:09.046845: I tensorflow/core/grappler/optimizers/custom_graph_optimizer_registry.cc:114] Plugin optimizer for device_type GPU is enabled.\n"
     ]
    },
    {
     "name": "stdout",
     "output_type": "stream",
     "text": [
      " 6/10 [=================>............] - ETA: 2s - factorized_top_k/top_1_categorical_accuracy: 0.0026 - factorized_top_k/top_5_categorical_accuracy: 0.0220 - factorized_top_k/top_10_categorical_accuracy: 0.0446 - factorized_top_k/top_50_categorical_accuracy: 0.7646 - factorized_top_k/top_100_categorical_accuracy: 0.8244 - loss: 67996.5234 - regularization_loss: 0.0000e+00 - total_loss: 67996.5234"
     ]
    },
    {
     "name": "stderr",
     "output_type": "stream",
     "text": [
      "2023-02-07 20:42:09.619780: I tensorflow/core/grappler/optimizers/custom_graph_optimizer_registry.cc:114] Plugin optimizer for device_type GPU is enabled.\n",
      "2023-02-07 20:42:09.656636: I tensorflow/core/grappler/optimizers/custom_graph_optimizer_registry.cc:114] Plugin optimizer for device_type GPU is enabled.\n"
     ]
    },
    {
     "name": "stdout",
     "output_type": "stream",
     "text": [
      " 7/10 [====================>.........] - ETA: 1s - factorized_top_k/top_1_categorical_accuracy: 0.0025 - factorized_top_k/top_5_categorical_accuracy: 0.0215 - factorized_top_k/top_10_categorical_accuracy: 0.0439 - factorized_top_k/top_50_categorical_accuracy: 0.7647 - factorized_top_k/top_100_categorical_accuracy: 0.8084 - loss: 67988.1473 - regularization_loss: 0.0000e+00 - total_loss: 67988.1473"
     ]
    },
    {
     "name": "stderr",
     "output_type": "stream",
     "text": [
      "2023-02-07 20:42:10.220714: I tensorflow/core/grappler/optimizers/custom_graph_optimizer_registry.cc:114] Plugin optimizer for device_type GPU is enabled.\n",
      "2023-02-07 20:42:10.244315: I tensorflow/core/grappler/optimizers/custom_graph_optimizer_registry.cc:114] Plugin optimizer for device_type GPU is enabled.\n"
     ]
    },
    {
     "name": "stdout",
     "output_type": "stream",
     "text": [
      " 8/10 [=======================>......] - ETA: 1s - factorized_top_k/top_1_categorical_accuracy: 0.0024 - factorized_top_k/top_5_categorical_accuracy: 0.0214 - factorized_top_k/top_10_categorical_accuracy: 0.0438 - factorized_top_k/top_50_categorical_accuracy: 0.7657 - factorized_top_k/top_100_categorical_accuracy: 0.8213 - loss: 67985.5488 - regularization_loss: 0.0000e+00 - total_loss: 67985.5488"
     ]
    },
    {
     "name": "stderr",
     "output_type": "stream",
     "text": [
      "2023-02-07 20:42:10.823372: I tensorflow/core/grappler/optimizers/custom_graph_optimizer_registry.cc:114] Plugin optimizer for device_type GPU is enabled.\n",
      "2023-02-07 20:42:10.844271: I tensorflow/core/grappler/optimizers/custom_graph_optimizer_registry.cc:114] Plugin optimizer for device_type GPU is enabled.\n"
     ]
    },
    {
     "name": "stdout",
     "output_type": "stream",
     "text": [
      " 9/10 [==========================>...] - ETA: 0s - factorized_top_k/top_1_categorical_accuracy: 0.0024 - factorized_top_k/top_5_categorical_accuracy: 0.0213 - factorized_top_k/top_10_categorical_accuracy: 0.0437 - factorized_top_k/top_50_categorical_accuracy: 0.7656 - factorized_top_k/top_100_categorical_accuracy: 0.8305 - loss: 67993.7075 - regularization_loss: 0.0000e+00 - total_loss: 67993.7075"
     ]
    },
    {
     "name": "stderr",
     "output_type": "stream",
     "text": [
      "2023-02-07 20:42:11.409524: I tensorflow/core/grappler/optimizers/custom_graph_optimizer_registry.cc:114] Plugin optimizer for device_type GPU is enabled.\n",
      "2023-02-07 20:42:11.428790: I tensorflow/core/grappler/optimizers/custom_graph_optimizer_registry.cc:114] Plugin optimizer for device_type GPU is enabled.\n"
     ]
    },
    {
     "name": "stdout",
     "output_type": "stream",
     "text": [
      "10/10 [==============================] - 6s 564ms/step - factorized_top_k/top_1_categorical_accuracy: 0.0023 - factorized_top_k/top_5_categorical_accuracy: 0.0211 - factorized_top_k/top_10_categorical_accuracy: 0.0435 - factorized_top_k/top_50_categorical_accuracy: 0.7655 - factorized_top_k/top_100_categorical_accuracy: 0.8227 - loss: 64801.8743 - regularization_loss: 0.0000e+00 - total_loss: 64801.8743\n"
     ]
    },
    {
     "data": {
      "text/plain": [
       "<keras.callbacks.History at 0x284d77a90>"
      ]
     },
     "execution_count": 78,
     "metadata": {},
     "output_type": "execute_result"
    }
   ],
   "source": [
    "model.fit(cached_train, epochs=3)"
   ]
  },
  {
   "cell_type": "code",
   "execution_count": 79,
   "metadata": {},
   "outputs": [
    {
     "name": "stderr",
     "output_type": "stream",
     "text": [
      "2023-02-07 20:42:54.393963: I tensorflow/core/grappler/optimizers/custom_graph_optimizer_registry.cc:114] Plugin optimizer for device_type GPU is enabled.\n",
      "2023-02-07 20:43:55.850117: I tensorflow/core/grappler/optimizers/custom_graph_optimizer_registry.cc:114] Plugin optimizer for device_type GPU is enabled.\n"
     ]
    }
   ],
   "source": [
    "#This is the converting ID's into Integers part.\n",
    "\n",
    "user_ids_vocabulary = tf.keras.layers.experimental.preprocessing.StringLookup(mask_token=None)\n",
    "user_ids_vocabulary.adapt(ratings.map(lambda x: x[\"user_id\"]))\n",
    "\n",
    "\n",
    "movie_title_vocabulary = tf.keras.layers.experimental.preprocessing.StringLookup(mask_token=None)\n",
    "movie_title_vocabulary.adapt(movies)"
   ]
  },
  {
   "cell_type": "code",
   "execution_count": null,
   "metadata": {},
   "outputs": [],
   "source": []
  },
  {
   "cell_type": "code",
   "execution_count": 81,
   "metadata": {},
   "outputs": [],
   "source": [
    "#Now defining the model, by Inheriting from tfrs.Model and implement the compute_loss method\n",
    "\n",
    "class MovieLensModel(tfrs.Model):\n",
    "    def __init__(\n",
    "        self,\n",
    "        user_model: tf.keras.Model,\n",
    "        movie_model: tf.keras.Model,\n",
    "        task: tfrs.tasks.Retrieval):\n",
    "        super().__init__()\n",
    "\n",
    "        #setting up user and movie representation\n",
    "        self.user_model = user_model\n",
    "        self.movie_model = movie_model\n",
    "\n",
    "        #and setting up the retrieval task\n",
    "        self.task = task\n",
    "\n",
    "\n",
    "        def compute_loss(self, features: Dict[Text, tf.Tensor], training:bool = False) -> tf.Tensor:\n",
    "            # Here, it's about how the loss is computed\n",
    "            user_embeddings = self.user_model(features[\"user_id\"])\n",
    "            movie_embeddings = self.movie_model(features[\"movie_title\"])\n",
    "\n",
    "            return self.task(user_embeddings, movie_embeddings)\n"
   ]
  },
  {
   "cell_type": "code",
   "execution_count": 42,
   "metadata": {},
   "outputs": [
    {
     "name": "stdout",
     "output_type": "stream",
     "text": [
      "\u001b[0;31mSignature:\u001b[0m \u001b[0mMovieLensModel\u001b[0m\u001b[0;34m.\u001b[0m\u001b[0mcompute_loss\u001b[0m\u001b[0;34m(\u001b[0m\u001b[0mself\u001b[0m\u001b[0;34m,\u001b[0m \u001b[0minputs\u001b[0m\u001b[0;34m,\u001b[0m \u001b[0mtraining\u001b[0m\u001b[0;34m:\u001b[0m \u001b[0mbool\u001b[0m \u001b[0;34m=\u001b[0m \u001b[0;32mFalse\u001b[0m\u001b[0;34m)\u001b[0m \u001b[0;34m->\u001b[0m \u001b[0mtensorflow\u001b[0m\u001b[0;34m.\u001b[0m\u001b[0mpython\u001b[0m\u001b[0;34m.\u001b[0m\u001b[0mframework\u001b[0m\u001b[0;34m.\u001b[0m\u001b[0mops\u001b[0m\u001b[0;34m.\u001b[0m\u001b[0mTensor\u001b[0m\u001b[0;34m\u001b[0m\u001b[0;34m\u001b[0m\u001b[0m\n",
      "\u001b[0;31mDocstring:\u001b[0m\n",
      "Defines the loss function.\n",
      "\n",
      "Args:\n",
      "  inputs: A data structure of tensors: raw inputs to the model. These will\n",
      "    usually contain labels and weights as well as features.\n",
      "  training: Whether the model is in training mode.\n",
      "\n",
      "Returns:\n",
      "  Loss tensor.\n",
      "\u001b[0;31mFile:\u001b[0m      ~/TheGitVerse/ClassStuffs/ClasseStuffs/lib/python3.9/site-packages/tensorflow_recommenders/models/base.py\n",
      "\u001b[0;31mType:\u001b[0m      function"
     ]
    }
   ],
   "source": [
    "MovieLensModel.compute_loss?"
   ]
  },
  {
   "cell_type": "code",
   "execution_count": 30,
   "metadata": {},
   "outputs": [
    {
     "data": {
      "text/plain": [
       "(944, 1665)"
      ]
     },
     "execution_count": 30,
     "metadata": {},
     "output_type": "execute_result"
    }
   ],
   "source": [
    "user_ids_vocabulary.vocabulary_size(), movie_title_vocabulary.vocabulary_size()"
   ]
  },
  {
   "cell_type": "code",
   "execution_count": 82,
   "metadata": {},
   "outputs": [],
   "source": [
    "#Defining the user and item/movie models,\n",
    "user_model = tf.keras.Sequential([\n",
    "    user_ids_vocabulary,\n",
    "    tf.keras.layers.Embedding(user_ids_vocabulary.vocabulary_size(), 64)\n",
    "])\n",
    "\n",
    "movie_model = tf.keras.Sequential([\n",
    "    movie_title_vocabulary,\n",
    "    tf.keras.layers.Embedding(movie_title_vocabulary.vocabulary_size(), 64)\n",
    "])\n",
    "\n",
    "\n",
    "#Defining the Objectives\n",
    "task = tfrs.tasks.Retrieval(metrics=tfrs.metrics.FactorizedTopK(\n",
    "    movies.batch(128).map(movie_model)\n",
    "))"
   ]
  },
  {
   "cell_type": "code",
   "execution_count": 88,
   "metadata": {},
   "outputs": [
    {
     "ename": "NotImplementedError",
     "evalue": "Exception encountered when calling layer 'model_1' (type Model).\n\nUnimplemented `tf.keras.Model.call()`: if you intend to create a `Model` with the Functional API, please provide `inputs` and `outputs` arguments. Otherwise, subclass `Model` with an overridden `call()` method.\n\nCall arguments received by layer 'model_1' (type Model):\n  • inputs=<keras.engine.sequential.Sequential object at 0x2999731f0>\n  • training=<keras.engine.sequential.Sequential object at 0x1774fda00>\n  • mask=<tensorflow_recommenders.tasks.retrieval.Retrieval object at 0x1774fde50>",
     "output_type": "error",
     "traceback": [
      "\u001b[0;31m---------------------------------------------------------------------------\u001b[0m",
      "\u001b[0;31mNotImplementedError\u001b[0m                       Traceback (most recent call last)",
      "Cell \u001b[0;32mIn[88], line 4\u001b[0m\n\u001b[1;32m      1\u001b[0m \u001b[38;5;66;03m#Now Time to Fit and Evaluate the model\u001b[39;00m\n\u001b[1;32m      2\u001b[0m \n\u001b[1;32m      3\u001b[0m \u001b[38;5;66;03m#First, is creating a retrieval model\u001b[39;00m\n\u001b[0;32m----> 4\u001b[0m model \u001b[38;5;241m=\u001b[39m \u001b[43mmodel\u001b[49m\u001b[43m(\u001b[49m\u001b[43muser_model\u001b[49m\u001b[43m,\u001b[49m\u001b[43m \u001b[49m\u001b[43mmovie_model\u001b[49m\u001b[43m,\u001b[49m\u001b[43m \u001b[49m\u001b[43mtask\u001b[49m\u001b[43m)\u001b[49m\n\u001b[1;32m      5\u001b[0m model\u001b[38;5;241m.\u001b[39mcompile(optimizer\u001b[38;5;241m=\u001b[39mtf\u001b[38;5;241m.\u001b[39mkeras\u001b[38;5;241m.\u001b[39moptimizers\u001b[38;5;241m.\u001b[39mlegacy\u001b[38;5;241m.\u001b[39mAdam())\n\u001b[1;32m      7\u001b[0m \u001b[38;5;66;03m#Training for 3 Epochs\u001b[39;00m\n",
      "File \u001b[0;32m~/TheGitVerse/ClassStuffs/ClasseStuffs/lib/python3.9/site-packages/keras/utils/traceback_utils.py:70\u001b[0m, in \u001b[0;36mfilter_traceback.<locals>.error_handler\u001b[0;34m(*args, **kwargs)\u001b[0m\n\u001b[1;32m     67\u001b[0m     filtered_tb \u001b[39m=\u001b[39m _process_traceback_frames(e\u001b[39m.\u001b[39m__traceback__)\n\u001b[1;32m     68\u001b[0m     \u001b[39m# To get the full stack trace, call:\u001b[39;00m\n\u001b[1;32m     69\u001b[0m     \u001b[39m# `tf.debugging.disable_traceback_filtering()`\u001b[39;00m\n\u001b[0;32m---> 70\u001b[0m     \u001b[39mraise\u001b[39;00m e\u001b[39m.\u001b[39mwith_traceback(filtered_tb) \u001b[39mfrom\u001b[39;00m \u001b[39mNone\u001b[39m\n\u001b[1;32m     71\u001b[0m \u001b[39mfinally\u001b[39;00m:\n\u001b[1;32m     72\u001b[0m     \u001b[39mdel\u001b[39;00m filtered_tb\n",
      "File \u001b[0;32m~/TheGitVerse/ClassStuffs/ClasseStuffs/lib/python3.9/site-packages/keras/engine/training.py:588\u001b[0m, in \u001b[0;36mModel.call\u001b[0;34m(self, inputs, training, mask)\u001b[0m\n\u001b[1;32m    563\u001b[0m \u001b[39m@doc_controls\u001b[39m\u001b[39m.\u001b[39mdoc_in_current_and_subclasses\n\u001b[1;32m    564\u001b[0m \u001b[39mdef\u001b[39;00m \u001b[39mcall\u001b[39m(\u001b[39mself\u001b[39m, inputs, training\u001b[39m=\u001b[39m\u001b[39mNone\u001b[39;00m, mask\u001b[39m=\u001b[39m\u001b[39mNone\u001b[39;00m):\n\u001b[1;32m    565\u001b[0m \u001b[39m    \u001b[39m\u001b[39m\"\"\"Calls the model on new inputs and returns the outputs as tensors.\u001b[39;00m\n\u001b[1;32m    566\u001b[0m \n\u001b[1;32m    567\u001b[0m \u001b[39m    In this case `call()` just reapplies\u001b[39;00m\n\u001b[0;32m   (...)\u001b[0m\n\u001b[1;32m    586\u001b[0m \u001b[39m        a list of tensors if there are more than one outputs.\u001b[39;00m\n\u001b[1;32m    587\u001b[0m \u001b[39m    \"\"\"\u001b[39;00m\n\u001b[0;32m--> 588\u001b[0m     \u001b[39mraise\u001b[39;00m \u001b[39mNotImplementedError\u001b[39;00m(\n\u001b[1;32m    589\u001b[0m         \u001b[39m\"\u001b[39m\u001b[39mUnimplemented `tf.keras.Model.call()`: if you \u001b[39m\u001b[39m\"\u001b[39m\n\u001b[1;32m    590\u001b[0m         \u001b[39m\"\u001b[39m\u001b[39mintend to create a `Model` with the Functional \u001b[39m\u001b[39m\"\u001b[39m\n\u001b[1;32m    591\u001b[0m         \u001b[39m\"\u001b[39m\u001b[39mAPI, please provide `inputs` and `outputs` \u001b[39m\u001b[39m\"\u001b[39m\n\u001b[1;32m    592\u001b[0m         \u001b[39m\"\u001b[39m\u001b[39marguments. Otherwise, subclass `Model` with an \u001b[39m\u001b[39m\"\u001b[39m\n\u001b[1;32m    593\u001b[0m         \u001b[39m\"\u001b[39m\u001b[39moverridden `call()` method.\u001b[39m\u001b[39m\"\u001b[39m\n\u001b[1;32m    594\u001b[0m     )\n",
      "\u001b[0;31mNotImplementedError\u001b[0m: Exception encountered when calling layer 'model_1' (type Model).\n\nUnimplemented `tf.keras.Model.call()`: if you intend to create a `Model` with the Functional API, please provide `inputs` and `outputs` arguments. Otherwise, subclass `Model` with an overridden `call()` method.\n\nCall arguments received by layer 'model_1' (type Model):\n  • inputs=<keras.engine.sequential.Sequential object at 0x2999731f0>\n  • training=<keras.engine.sequential.Sequential object at 0x1774fda00>\n  • mask=<tensorflow_recommenders.tasks.retrieval.Retrieval object at 0x1774fde50>"
     ]
    }
   ],
   "source": [
    "#Now Time to Fit and Evaluate the model\n",
    "\n",
    "#First, is creating a retrieval model\n",
    "model = model(user_model, movie_model, task)\n",
    "model.compile(optimizer=tf.keras.optimizers.legacy.Adam())\n",
    "\n",
    "#Training for 3 Epochs\n",
    "model.fit(ratings.batch(4096), epochs=3)\n",
    "\n",
    "\n",
    "#Now using brute-force search to set up retrieval using the trained representation\n",
    "index = tfrs.layers.factorized_top_k.BruteForce(model.user_model)\n",
    "index.index(movies.batch(100).map(model.movie_model), movies)\n"
   ]
  },
  {
   "cell_type": "code",
   "execution_count": null,
   "metadata": {},
   "outputs": [],
   "source": []
  },
  {
   "cell_type": "code",
   "execution_count": 85,
   "metadata": {},
   "outputs": [
    {
     "ename": "NameError",
     "evalue": "name 'index' is not defined",
     "output_type": "error",
     "traceback": [
      "\u001b[0;31m---------------------------------------------------------------------------\u001b[0m",
      "\u001b[0;31mNameError\u001b[0m                                 Traceback (most recent call last)",
      "Cell \u001b[0;32mIn[85], line 2\u001b[0m\n\u001b[1;32m      1\u001b[0m \u001b[38;5;66;03m#And then here we get some recommendations\u001b[39;00m\n\u001b[0;32m----> 2\u001b[0m _, titles \u001b[38;5;241m=\u001b[39m \u001b[43mindex\u001b[49m(np\u001b[38;5;241m.\u001b[39marray([\u001b[38;5;124m\"\u001b[39m\u001b[38;5;124m42\u001b[39m\u001b[38;5;124m\"\u001b[39m]))\n\u001b[1;32m      3\u001b[0m \u001b[38;5;28mprint\u001b[39m(\u001b[38;5;124mf\u001b[39m\u001b[38;5;124m\"\u001b[39m\u001b[38;5;124mTop 3 Recommendations for user 42: \u001b[39m\u001b[38;5;132;01m{\u001b[39;00mtitles[\u001b[38;5;241m0\u001b[39m,\u001b[38;5;250m \u001b[39m:\u001b[38;5;241m3\u001b[39m]\u001b[38;5;132;01m}\u001b[39;00m\u001b[38;5;124m\"\u001b[39m)\n",
      "\u001b[0;31mNameError\u001b[0m: name 'index' is not defined"
     ]
    }
   ],
   "source": [
    "#And then here we get some recommendations\n",
    "_, titles = index(np.array([\"42\"]))\n",
    "print(f\"Top 3 Recommendations for user 42: {titles[0, :3]}\")"
   ]
  },
  {
   "cell_type": "code",
   "execution_count": 11,
   "metadata": {},
   "outputs": [
    {
     "name": "stdout",
     "output_type": "stream",
     "text": [
      "\u001b[0;31mInit signature:\u001b[0m\n",
      "\u001b[0mtf\u001b[0m\u001b[0;34m.\u001b[0m\u001b[0mkeras\u001b[0m\u001b[0;34m.\u001b[0m\u001b[0mlayers\u001b[0m\u001b[0;34m.\u001b[0m\u001b[0mEmbedding\u001b[0m\u001b[0;34m(\u001b[0m\u001b[0;34m\u001b[0m\n",
      "\u001b[0;34m\u001b[0m    \u001b[0minput_dim\u001b[0m\u001b[0;34m,\u001b[0m\u001b[0;34m\u001b[0m\n",
      "\u001b[0;34m\u001b[0m    \u001b[0moutput_dim\u001b[0m\u001b[0;34m,\u001b[0m\u001b[0;34m\u001b[0m\n",
      "\u001b[0;34m\u001b[0m    \u001b[0membeddings_initializer\u001b[0m\u001b[0;34m=\u001b[0m\u001b[0;34m'uniform'\u001b[0m\u001b[0;34m,\u001b[0m\u001b[0;34m\u001b[0m\n",
      "\u001b[0;34m\u001b[0m    \u001b[0membeddings_regularizer\u001b[0m\u001b[0;34m=\u001b[0m\u001b[0;32mNone\u001b[0m\u001b[0;34m,\u001b[0m\u001b[0;34m\u001b[0m\n",
      "\u001b[0;34m\u001b[0m    \u001b[0mactivity_regularizer\u001b[0m\u001b[0;34m=\u001b[0m\u001b[0;32mNone\u001b[0m\u001b[0;34m,\u001b[0m\u001b[0;34m\u001b[0m\n",
      "\u001b[0;34m\u001b[0m    \u001b[0membeddings_constraint\u001b[0m\u001b[0;34m=\u001b[0m\u001b[0;32mNone\u001b[0m\u001b[0;34m,\u001b[0m\u001b[0;34m\u001b[0m\n",
      "\u001b[0;34m\u001b[0m    \u001b[0mmask_zero\u001b[0m\u001b[0;34m=\u001b[0m\u001b[0;32mFalse\u001b[0m\u001b[0;34m,\u001b[0m\u001b[0;34m\u001b[0m\n",
      "\u001b[0;34m\u001b[0m    \u001b[0minput_length\u001b[0m\u001b[0;34m=\u001b[0m\u001b[0;32mNone\u001b[0m\u001b[0;34m,\u001b[0m\u001b[0;34m\u001b[0m\n",
      "\u001b[0;34m\u001b[0m    \u001b[0;34m**\u001b[0m\u001b[0mkwargs\u001b[0m\u001b[0;34m,\u001b[0m\u001b[0;34m\u001b[0m\n",
      "\u001b[0;34m\u001b[0m\u001b[0;34m)\u001b[0m\u001b[0;34m\u001b[0m\u001b[0;34m\u001b[0m\u001b[0m\n",
      "\u001b[0;31mDocstring:\u001b[0m     \n",
      "Turns positive integers (indexes) into dense vectors of fixed size.\n",
      "\n",
      "e.g. `[[4], [20]] -> [[0.25, 0.1], [0.6, -0.2]]`\n",
      "\n",
      "This layer can only be used on positive integer inputs of a fixed range. The\n",
      "`tf.keras.layers.TextVectorization`, `tf.keras.layers.StringLookup`,\n",
      "and `tf.keras.layers.IntegerLookup` preprocessing layers can help prepare\n",
      "inputs for an `Embedding` layer.\n",
      "\n",
      "This layer accepts `tf.Tensor` and `tf.RaggedTensor` inputs. It cannot be\n",
      "called with `tf.SparseTensor` input.\n",
      "\n",
      "Example:\n",
      "\n",
      ">>> model = tf.keras.Sequential()\n",
      ">>> model.add(tf.keras.layers.Embedding(1000, 64, input_length=10))\n",
      ">>> # The model will take as input an integer matrix of size (batch,\n",
      ">>> # input_length), and the largest integer (i.e. word index) in the input\n",
      ">>> # should be no larger than 999 (vocabulary size).\n",
      ">>> # Now model.output_shape is (None, 10, 64), where `None` is the batch\n",
      ">>> # dimension.\n",
      ">>> input_array = np.random.randint(1000, size=(32, 10))\n",
      ">>> model.compile('rmsprop', 'mse')\n",
      ">>> output_array = model.predict(input_array)\n",
      ">>> print(output_array.shape)\n",
      "(32, 10, 64)\n",
      "\n",
      "Args:\n",
      "  input_dim: Integer. Size of the vocabulary,\n",
      "    i.e. maximum integer index + 1.\n",
      "  output_dim: Integer. Dimension of the dense embedding.\n",
      "  embeddings_initializer: Initializer for the `embeddings`\n",
      "    matrix (see `keras.initializers`).\n",
      "  embeddings_regularizer: Regularizer function applied to\n",
      "    the `embeddings` matrix (see `keras.regularizers`).\n",
      "  embeddings_constraint: Constraint function applied to\n",
      "    the `embeddings` matrix (see `keras.constraints`).\n",
      "  mask_zero: Boolean, whether or not the input value 0 is a special\n",
      "    \"padding\" value that should be masked out. This is useful when using\n",
      "    recurrent layers which may take variable length input. If this is\n",
      "    `True`, then all subsequent layers in the model need to support masking\n",
      "    or an exception will be raised. If mask_zero is set to True, as a\n",
      "    consequence, index 0 cannot be used in the vocabulary (input_dim should\n",
      "    equal size of vocabulary + 1).\n",
      "  input_length: Length of input sequences, when it is constant.\n",
      "    This argument is required if you are going to connect\n",
      "    `Flatten` then `Dense` layers upstream\n",
      "    (without it, the shape of the dense outputs cannot be computed).\n",
      "\n",
      "Input shape:\n",
      "  2D tensor with shape: `(batch_size, input_length)`.\n",
      "\n",
      "Output shape:\n",
      "  3D tensor with shape: `(batch_size, input_length, output_dim)`.\n",
      "\n",
      "**Note on variable placement:**\n",
      "By default, if a GPU is available, the embedding matrix will be placed on\n",
      "the GPU. This achieves the best performance, but it might cause issues:\n",
      "\n",
      "- You may be using an optimizer that does not support sparse GPU kernels.\n",
      "In this case you will see an error upon training your model.\n",
      "- Your embedding matrix may be too large to fit on your GPU. In this case\n",
      "you will see an Out Of Memory (OOM) error.\n",
      "\n",
      "In such cases, you should place the embedding matrix on the CPU memory.\n",
      "You can do so with a device scope, as such:\n",
      "\n",
      "```python\n",
      "with tf.device('cpu:0'):\n",
      "  embedding_layer = Embedding(...)\n",
      "  embedding_layer.build()\n",
      "```\n",
      "\n",
      "The pre-built `embedding_layer` instance can then be added to a `Sequential`\n",
      "model (e.g. `model.add(embedding_layer)`), called in a Functional model\n",
      "(e.g. `x = embedding_layer(x)`), or used in a subclassed model.\n",
      "\u001b[0;31mFile:\u001b[0m           ~/TheGitVerse/ClassStuffs/ClasseStuffs/lib/python3.9/site-packages/keras/layers/core/embedding.py\n",
      "\u001b[0;31mType:\u001b[0m           type\n",
      "\u001b[0;31mSubclasses:\u001b[0m     "
     ]
    }
   ],
   "source": [
    "tf.keras.layers.Embedding?"
   ]
  },
  {
   "cell_type": "code",
   "execution_count": 15,
   "metadata": {},
   "outputs": [
    {
     "name": "stdout",
     "output_type": "stream",
     "text": [
      "\u001b[0;31mInit signature:\u001b[0m \u001b[0mtf\u001b[0m\u001b[0;34m.\u001b[0m\u001b[0mkeras\u001b[0m\u001b[0;34m.\u001b[0m\u001b[0mSequential\u001b[0m\u001b[0;34m(\u001b[0m\u001b[0mlayers\u001b[0m\u001b[0;34m=\u001b[0m\u001b[0;32mNone\u001b[0m\u001b[0;34m,\u001b[0m \u001b[0mname\u001b[0m\u001b[0;34m=\u001b[0m\u001b[0;32mNone\u001b[0m\u001b[0;34m)\u001b[0m\u001b[0;34m\u001b[0m\u001b[0;34m\u001b[0m\u001b[0m\n",
      "\u001b[0;31mDocstring:\u001b[0m     \n",
      "`Sequential` groups a linear stack of layers into a `tf.keras.Model`.\n",
      "\n",
      "`Sequential` provides training and inference features on this model.\n",
      "\n",
      "Examples:\n",
      "\n",
      "```python\n",
      "# Optionally, the first layer can receive an `input_shape` argument:\n",
      "model = tf.keras.Sequential()\n",
      "model.add(tf.keras.layers.Dense(8, input_shape=(16,)))\n",
      "# Afterwards, we do automatic shape inference:\n",
      "model.add(tf.keras.layers.Dense(4))\n",
      "\n",
      "# This is identical to the following:\n",
      "model = tf.keras.Sequential()\n",
      "model.add(tf.keras.Input(shape=(16,)))\n",
      "model.add(tf.keras.layers.Dense(8))\n",
      "\n",
      "# Note that you can also omit the `input_shape` argument.\n",
      "# In that case the model doesn't have any weights until the first call\n",
      "# to a training/evaluation method (since it isn't yet built):\n",
      "model = tf.keras.Sequential()\n",
      "model.add(tf.keras.layers.Dense(8))\n",
      "model.add(tf.keras.layers.Dense(4))\n",
      "# model.weights not created yet\n",
      "\n",
      "# Whereas if you specify the input shape, the model gets built\n",
      "# continuously as you are adding layers:\n",
      "model = tf.keras.Sequential()\n",
      "model.add(tf.keras.layers.Dense(8, input_shape=(16,)))\n",
      "model.add(tf.keras.layers.Dense(4))\n",
      "len(model.weights)\n",
      "# Returns \"4\"\n",
      "\n",
      "# When using the delayed-build pattern (no input shape specified), you can\n",
      "# choose to manually build your model by calling\n",
      "# `build(batch_input_shape)`:\n",
      "model = tf.keras.Sequential()\n",
      "model.add(tf.keras.layers.Dense(8))\n",
      "model.add(tf.keras.layers.Dense(4))\n",
      "model.build((None, 16))\n",
      "len(model.weights)\n",
      "# Returns \"4\"\n",
      "\n",
      "# Note that when using the delayed-build pattern (no input shape specified),\n",
      "# the model gets built the first time you call `fit`, `eval`, or `predict`,\n",
      "# or the first time you call the model on some input data.\n",
      "model = tf.keras.Sequential()\n",
      "model.add(tf.keras.layers.Dense(8))\n",
      "model.add(tf.keras.layers.Dense(1))\n",
      "model.compile(optimizer='sgd', loss='mse')\n",
      "# This builds the model for the first time:\n",
      "model.fit(x, y, batch_size=32, epochs=10)\n",
      "```\n",
      "\u001b[0;31mInit docstring:\u001b[0m\n",
      "Creates a `Sequential` model instance.\n",
      "\n",
      "Args:\n",
      "  layers: Optional list of layers to add to the model.\n",
      "  name: Optional name for the model.\n",
      "\u001b[0;31mFile:\u001b[0m           ~/TheGitVerse/ClassStuffs/ClasseStuffs/lib/python3.9/site-packages/keras/engine/sequential.py\n",
      "\u001b[0;31mType:\u001b[0m           type\n",
      "\u001b[0;31mSubclasses:\u001b[0m     "
     ]
    }
   ],
   "source": [
    "tf.keras.Sequential?"
   ]
  },
  {
   "cell_type": "code",
   "execution_count": null,
   "metadata": {},
   "outputs": [],
   "source": []
  },
  {
   "cell_type": "code",
   "execution_count": 5,
   "metadata": {},
   "outputs": [
    {
     "name": "stdout",
     "output_type": "stream",
     "text": [
      "\u001b[0;31mInit signature:\u001b[0m\n",
      "\u001b[0mtf\u001b[0m\u001b[0;34m.\u001b[0m\u001b[0mkeras\u001b[0m\u001b[0;34m.\u001b[0m\u001b[0mlayers\u001b[0m\u001b[0;34m.\u001b[0m\u001b[0mexperimental\u001b[0m\u001b[0;34m.\u001b[0m\u001b[0mpreprocessing\u001b[0m\u001b[0;34m.\u001b[0m\u001b[0mStringLookup\u001b[0m\u001b[0;34m(\u001b[0m\u001b[0;34m\u001b[0m\n",
      "\u001b[0;34m\u001b[0m    \u001b[0mmax_tokens\u001b[0m\u001b[0;34m=\u001b[0m\u001b[0;32mNone\u001b[0m\u001b[0;34m,\u001b[0m\u001b[0;34m\u001b[0m\n",
      "\u001b[0;34m\u001b[0m    \u001b[0mnum_oov_indices\u001b[0m\u001b[0;34m=\u001b[0m\u001b[0;36m1\u001b[0m\u001b[0;34m,\u001b[0m\u001b[0;34m\u001b[0m\n",
      "\u001b[0;34m\u001b[0m    \u001b[0mmask_token\u001b[0m\u001b[0;34m=\u001b[0m\u001b[0;32mNone\u001b[0m\u001b[0;34m,\u001b[0m\u001b[0;34m\u001b[0m\n",
      "\u001b[0;34m\u001b[0m    \u001b[0moov_token\u001b[0m\u001b[0;34m=\u001b[0m\u001b[0;34m'[UNK]'\u001b[0m\u001b[0;34m,\u001b[0m\u001b[0;34m\u001b[0m\n",
      "\u001b[0;34m\u001b[0m    \u001b[0mvocabulary\u001b[0m\u001b[0;34m=\u001b[0m\u001b[0;32mNone\u001b[0m\u001b[0;34m,\u001b[0m\u001b[0;34m\u001b[0m\n",
      "\u001b[0;34m\u001b[0m    \u001b[0midf_weights\u001b[0m\u001b[0;34m=\u001b[0m\u001b[0;32mNone\u001b[0m\u001b[0;34m,\u001b[0m\u001b[0;34m\u001b[0m\n",
      "\u001b[0;34m\u001b[0m    \u001b[0mencoding\u001b[0m\u001b[0;34m=\u001b[0m\u001b[0;34m'utf-8'\u001b[0m\u001b[0;34m,\u001b[0m\u001b[0;34m\u001b[0m\n",
      "\u001b[0;34m\u001b[0m    \u001b[0minvert\u001b[0m\u001b[0;34m=\u001b[0m\u001b[0;32mFalse\u001b[0m\u001b[0;34m,\u001b[0m\u001b[0;34m\u001b[0m\n",
      "\u001b[0;34m\u001b[0m    \u001b[0moutput_mode\u001b[0m\u001b[0;34m=\u001b[0m\u001b[0;34m'int'\u001b[0m\u001b[0;34m,\u001b[0m\u001b[0;34m\u001b[0m\n",
      "\u001b[0;34m\u001b[0m    \u001b[0msparse\u001b[0m\u001b[0;34m=\u001b[0m\u001b[0;32mFalse\u001b[0m\u001b[0;34m,\u001b[0m\u001b[0;34m\u001b[0m\n",
      "\u001b[0;34m\u001b[0m    \u001b[0mpad_to_max_tokens\u001b[0m\u001b[0;34m=\u001b[0m\u001b[0;32mFalse\u001b[0m\u001b[0;34m,\u001b[0m\u001b[0;34m\u001b[0m\n",
      "\u001b[0;34m\u001b[0m    \u001b[0;34m**\u001b[0m\u001b[0mkwargs\u001b[0m\u001b[0;34m,\u001b[0m\u001b[0;34m\u001b[0m\n",
      "\u001b[0;34m\u001b[0m\u001b[0;34m)\u001b[0m\u001b[0;34m\u001b[0m\u001b[0;34m\u001b[0m\u001b[0m\n",
      "\u001b[0;31mDocstring:\u001b[0m     \n",
      "A preprocessing layer which maps string features to integer indices.\n",
      "\n",
      "This layer translates a set of arbitrary strings into integer output via a\n",
      "table-based vocabulary lookup. This layer will perform no splitting or\n",
      "transformation of input strings. For a layer than can split and tokenize\n",
      "natural language, see the `TextVectorization` layer.\n",
      "\n",
      "The vocabulary for the layer must be either supplied on construction or\n",
      "learned via `adapt()`. During `adapt()`, the layer will analyze a data set,\n",
      "determine the frequency of individual strings tokens, and create a\n",
      "vocabulary from them. If the vocabulary is capped in size, the most frequent\n",
      "tokens will be used to create the vocabulary and all others will be treated\n",
      "as out-of-vocabulary (OOV).\n",
      "\n",
      "There are two possible output modes for the layer.\n",
      "When `output_mode` is `\"int\"`,\n",
      "input strings are converted to their index in the vocabulary (an integer).\n",
      "When `output_mode` is `\"multi_hot\"`, `\"count\"`, or `\"tf_idf\"`, input strings\n",
      "are encoded into an array where each dimension corresponds to an element in\n",
      "the vocabulary.\n",
      "\n",
      "The vocabulary can optionally contain a mask token as well as an OOV token\n",
      "(which can optionally occupy multiple indices in the vocabulary, as set\n",
      "by `num_oov_indices`).\n",
      "The position of these tokens in the vocabulary is fixed. When `output_mode`\n",
      "is `\"int\"`, the vocabulary will begin with the mask token (if set), followed\n",
      "by OOV indices, followed by the rest of the vocabulary. When `output_mode`\n",
      "is `\"multi_hot\"`, `\"count\"`, or `\"tf_idf\"` the vocabulary will begin with\n",
      "OOV indices and instances of the mask token will be dropped.\n",
      "\n",
      "For an overview and full list of preprocessing layers, see the preprocessing\n",
      "[guide](https://www.tensorflow.org/guide/keras/preprocessing_layers).\n",
      "\n",
      "Args:\n",
      "  max_tokens: Maximum size of the vocabulary for this layer. This should\n",
      "    only be specified when adapting the vocabulary or when setting\n",
      "    `pad_to_max_tokens=True`. If None, there is no cap on the size of the\n",
      "    vocabulary. Note that this size includes the OOV and mask tokens.\n",
      "    Defaults to None.\n",
      "  num_oov_indices: The number of out-of-vocabulary tokens to use. If this\n",
      "    value is more than 1, OOV inputs are hashed to determine their OOV\n",
      "    value. If this value is 0, OOV inputs will cause an error when calling\n",
      "    the layer.  Defaults to 1.\n",
      "  mask_token: A token that represents masked inputs. When `output_mode` is\n",
      "    `\"int\"`, the token is included in vocabulary and mapped to index 0. In\n",
      "    other output modes, the token will not appear in the vocabulary and\n",
      "    instances of the mask token in the input will be dropped. If set to\n",
      "    None, no mask term will be added. Defaults to `None`.\n",
      "  oov_token: Only used when `invert` is True. The token to return for OOV\n",
      "    indices. Defaults to `\"[UNK]\"`.\n",
      "  vocabulary: Optional. Either an array of strings or a string path to a\n",
      "    text file. If passing an array, can pass a tuple, list, 1D numpy array,\n",
      "    or 1D tensor containing the string vocbulary terms. If passing a file\n",
      "    path, the file should contain one line per term in the vocabulary. If\n",
      "    this argument is set, there is no need to `adapt()` the layer.\n",
      "  idf_weights: Only valid when `output_mode` is `\"tf_idf\"`. A tuple, list,\n",
      "    1D numpy array, or 1D tensor or the same length as the vocabulary,\n",
      "    containing the floating point inverse document frequency weights, which\n",
      "    will be multiplied by per sample term counts for the final `tf_idf`\n",
      "    weight. If the `vocabulary` argument is set, and `output_mode` is\n",
      "    `\"tf_idf\"`, this argument must be supplied.\n",
      "  invert: Only valid when `output_mode` is `\"int\"`. If True, this layer will\n",
      "    map indices to vocabulary items instead of mapping vocabulary items to\n",
      "    indices. Default to False.\n",
      "  output_mode: Specification for the output of the layer. Defaults to\n",
      "    `\"int\"`.  Values can be `\"int\"`, `\"one_hot\"`, `\"multi_hot\"`, `\"count\"`,\n",
      "    or `\"tf_idf\"` configuring the layer as follows:\n",
      "      - `\"int\"`: Return the raw integer indices of the input tokens.\n",
      "      - `\"one_hot\"`: Encodes each individual element in the input into an\n",
      "        array the same size as the vocabulary, containing a 1 at the element\n",
      "        index. If the last dimension is size 1, will encode on that\n",
      "        dimension. If the last dimension is not size 1, will append a new\n",
      "        dimension for the encoded output.\n",
      "      - `\"multi_hot\"`: Encodes each sample in the input into a single array\n",
      "        the same size as the vocabulary, containing a 1 for each vocabulary\n",
      "        term present in the sample. Treats the last dimension as the sample\n",
      "        dimension, if input shape is (..., sample_length), output shape will\n",
      "        be (..., num_tokens).\n",
      "      - `\"count\"`: As `\"multi_hot\"`, but the int array contains a count of\n",
      "        the number of times the token at that index appeared in the sample.\n",
      "      - `\"tf_idf\"`: As `\"multi_hot\"`, but the TF-IDF algorithm is applied to\n",
      "        find the value in each token slot.\n",
      "    For `\"int\"` output, any shape of input and output is supported. For all\n",
      "    other output modes, currently only output up to rank 2 is supported.\n",
      "  pad_to_max_tokens: Only applicable when `output_mode` is `\"multi_hot\"`,\n",
      "    `\"count\"`, or `\"tf_idf\"`. If True, the output will have its feature axis\n",
      "    padded to `max_tokens` even if the number of unique tokens in the\n",
      "    vocabulary is less than max_tokens, resulting in a tensor of shape\n",
      "    [batch_size, max_tokens] regardless of vocabulary size. Defaults to\n",
      "    False.\n",
      "  sparse: Boolean. Only applicable when `output_mode` is `\"multi_hot\"`,\n",
      "    `\"count\"`, or `\"tf_idf\"`. If True, returns a `SparseTensor` instead of a\n",
      "    dense `Tensor`. Defaults to False.\n",
      "  encoding: Optional. The text encoding to use to interpret the input\n",
      "    strings. Defaults to `\"utf-8\"`.\n",
      "\n",
      "Examples:\n",
      "\n",
      "**Creating a lookup layer with a known vocabulary**\n",
      "\n",
      "This example creates a lookup layer with a pre-existing vocabulary.\n",
      "\n",
      ">>> vocab = [\"a\", \"b\", \"c\", \"d\"]\n",
      ">>> data = tf.constant([[\"a\", \"c\", \"d\"], [\"d\", \"z\", \"b\"]])\n",
      ">>> layer = tf.keras.layers.StringLookup(vocabulary=vocab)\n",
      ">>> layer(data)\n",
      "<tf.Tensor: shape=(2, 3), dtype=int64, numpy=\n",
      "array([[1, 3, 4],\n",
      "       [4, 0, 2]])>\n",
      "\n",
      "**Creating a lookup layer with an adapted vocabulary**\n",
      "\n",
      "This example creates a lookup layer and generates the vocabulary by\n",
      "analyzing the dataset.\n",
      "\n",
      ">>> data = tf.constant([[\"a\", \"c\", \"d\"], [\"d\", \"z\", \"b\"]])\n",
      ">>> layer = tf.keras.layers.StringLookup()\n",
      ">>> layer.adapt(data)\n",
      ">>> layer.get_vocabulary()\n",
      "['[UNK]', 'd', 'z', 'c', 'b', 'a']\n",
      "\n",
      "Note that the OOV token `\"[UNK]\"` has been added to the vocabulary.\n",
      "The remaining tokens are sorted by frequency\n",
      "(`\"d\"`, which has 2 occurrences, is first) then by inverse sort order.\n",
      "\n",
      ">>> data = tf.constant([[\"a\", \"c\", \"d\"], [\"d\", \"z\", \"b\"]])\n",
      ">>> layer = tf.keras.layers.StringLookup()\n",
      ">>> layer.adapt(data)\n",
      ">>> layer(data)\n",
      "<tf.Tensor: shape=(2, 3), dtype=int64, numpy=\n",
      "array([[5, 3, 1],\n",
      "       [1, 2, 4]])>\n",
      "\n",
      "**Lookups with multiple OOV indices**\n",
      "\n",
      "This example demonstrates how to use a lookup layer with multiple OOV\n",
      "indices.  When a layer is created with more than one OOV index, any OOV\n",
      "values are hashed into the number of OOV buckets, distributing OOV values in\n",
      "a deterministic fashion across the set.\n",
      "\n",
      ">>> vocab = [\"a\", \"b\", \"c\", \"d\"]\n",
      ">>> data = tf.constant([[\"a\", \"c\", \"d\"], [\"m\", \"z\", \"b\"]])\n",
      ">>> layer = tf.keras.layers.StringLookup(vocabulary=vocab,\n",
      "...                                      num_oov_indices=2)\n",
      ">>> layer(data)\n",
      "<tf.Tensor: shape=(2, 3), dtype=int64, numpy=\n",
      "array([[2, 4, 5],\n",
      "       [0, 1, 3]])>\n",
      "\n",
      "Note that the output for OOV value 'm' is 0, while the output for OOV value\n",
      "'z' is 1. The in-vocab terms have their output index increased by 1 from\n",
      "earlier examples (a maps to 2, etc) in order to make space for the extra OOV\n",
      "value.\n",
      "\n",
      "**One-hot output**\n",
      "\n",
      "Configure the layer with `output_mode='one_hot'`. Note that the first\n",
      "`num_oov_indices` dimensions in the ont_hot encoding represent OOV values.\n",
      "\n",
      ">>> vocab = [\"a\", \"b\", \"c\", \"d\"]\n",
      ">>> data = tf.constant([\"a\", \"b\", \"c\", \"d\", \"z\"])\n",
      ">>> layer = tf.keras.layers.StringLookup(\n",
      "...     vocabulary=vocab, output_mode='one_hot')\n",
      ">>> layer(data)\n",
      "<tf.Tensor: shape=(5, 5), dtype=float32, numpy=\n",
      "  array([[0., 1., 0., 0., 0.],\n",
      "         [0., 0., 1., 0., 0.],\n",
      "         [0., 0., 0., 1., 0.],\n",
      "         [0., 0., 0., 0., 1.],\n",
      "         [1., 0., 0., 0., 0.]], dtype=float32)>\n",
      "\n",
      "**Multi-hot output**\n",
      "\n",
      "Configure the layer with `output_mode='multi_hot'`. Note that the first\n",
      "`num_oov_indices` dimensions in the multi_hot encoding represent OOV values.\n",
      "\n",
      ">>> vocab = [\"a\", \"b\", \"c\", \"d\"]\n",
      ">>> data = tf.constant([[\"a\", \"c\", \"d\", \"d\"], [\"d\", \"z\", \"b\", \"z\"]])\n",
      ">>> layer = tf.keras.layers.StringLookup(\n",
      "...     vocabulary=vocab, output_mode='multi_hot')\n",
      ">>> layer(data)\n",
      "<tf.Tensor: shape=(2, 5), dtype=float32, numpy=\n",
      "  array([[0., 1., 0., 1., 1.],\n",
      "         [1., 0., 1., 0., 1.]], dtype=float32)>\n",
      "\n",
      "**Token count output**\n",
      "\n",
      "Configure the layer with `output_mode='count'`. As with multi_hot output,\n",
      "the first `num_oov_indices` dimensions in the output represent OOV values.\n",
      "\n",
      ">>> vocab = [\"a\", \"b\", \"c\", \"d\"]\n",
      ">>> data = tf.constant([[\"a\", \"c\", \"d\", \"d\"], [\"d\", \"z\", \"b\", \"z\"]])\n",
      ">>> layer = tf.keras.layers.StringLookup(\n",
      "...     vocabulary=vocab, output_mode='count')\n",
      ">>> layer(data)\n",
      "<tf.Tensor: shape=(2, 5), dtype=float32, numpy=\n",
      "  array([[0., 1., 0., 1., 2.],\n",
      "         [2., 0., 1., 0., 1.]], dtype=float32)>\n",
      "\n",
      "**TF-IDF output**\n",
      "\n",
      "Configure the layer with `output_mode=\"tf_idf\"`. As with multi_hot output,\n",
      "the first `num_oov_indices` dimensions in the output represent OOV values.\n",
      "\n",
      "Each token bin will output `token_count * idf_weight`, where the idf weights\n",
      "are the inverse document frequency weights per token. These should be\n",
      "provided along with the vocabulary. Note that the `idf_weight` for OOV\n",
      "values will default to the average of all idf weights passed in.\n",
      "\n",
      ">>> vocab = [\"a\", \"b\", \"c\", \"d\"]\n",
      ">>> idf_weights = [0.25, 0.75, 0.6, 0.4]\n",
      ">>> data = tf.constant([[\"a\", \"c\", \"d\", \"d\"], [\"d\", \"z\", \"b\", \"z\"]])\n",
      ">>> layer = tf.keras.layers.StringLookup(output_mode=\"tf_idf\")\n",
      ">>> layer.set_vocabulary(vocab, idf_weights=idf_weights)\n",
      ">>> layer(data)\n",
      "<tf.Tensor: shape=(2, 5), dtype=float32, numpy=\n",
      "  array([[0.  , 0.25, 0.  , 0.6 , 0.8 ],\n",
      "         [1.0 , 0.  , 0.75, 0.  , 0.4 ]], dtype=float32)>\n",
      "\n",
      "To specify the idf weights for oov values, you will need to pass the entire\n",
      "vocabularly including the leading oov token.\n",
      "\n",
      ">>> vocab = [\"[UNK]\", \"a\", \"b\", \"c\", \"d\"]\n",
      ">>> idf_weights = [0.9, 0.25, 0.75, 0.6, 0.4]\n",
      ">>> data = tf.constant([[\"a\", \"c\", \"d\", \"d\"], [\"d\", \"z\", \"b\", \"z\"]])\n",
      ">>> layer = tf.keras.layers.StringLookup(output_mode=\"tf_idf\")\n",
      ">>> layer.set_vocabulary(vocab, idf_weights=idf_weights)\n",
      ">>> layer(data)\n",
      "<tf.Tensor: shape=(2, 5), dtype=float32, numpy=\n",
      "  array([[0.  , 0.25, 0.  , 0.6 , 0.8 ],\n",
      "         [1.8 , 0.  , 0.75, 0.  , 0.4 ]], dtype=float32)>\n",
      "\n",
      "When adapting the layer in `\"tf_idf\"` mode, each input sample will be\n",
      "considered a document, and IDF weight per token will be calculated as\n",
      "`log(1 + num_documents / (1 + token_document_count))`.\n",
      "\n",
      "**Inverse lookup**\n",
      "\n",
      "This example demonstrates how to map indices to strings using this layer.\n",
      "(You can also use `adapt()` with `inverse=True`, but for simplicity we'll\n",
      "pass the vocab in this example.)\n",
      "\n",
      ">>> vocab = [\"a\", \"b\", \"c\", \"d\"]\n",
      ">>> data = tf.constant([[1, 3, 4], [4, 0, 2]])\n",
      ">>> layer = tf.keras.layers.StringLookup(vocabulary=vocab, invert=True)\n",
      ">>> layer(data)\n",
      "<tf.Tensor: shape=(2, 3), dtype=string, numpy=\n",
      "array([[b'a', b'c', b'd'],\n",
      "       [b'd', b'[UNK]', b'b']], dtype=object)>\n",
      "\n",
      "Note that the first index correspond to the oov token by default.\n",
      "\n",
      "\n",
      "**Forward and inverse lookup pairs**\n",
      "\n",
      "This example demonstrates how to use the vocabulary of a standard lookup\n",
      "layer to create an inverse lookup layer.\n",
      "\n",
      ">>> vocab = [\"a\", \"b\", \"c\", \"d\"]\n",
      ">>> data = tf.constant([[\"a\", \"c\", \"d\"], [\"d\", \"z\", \"b\"]])\n",
      ">>> layer = tf.keras.layers.StringLookup(vocabulary=vocab)\n",
      ">>> i_layer = tf.keras.layers.StringLookup(vocabulary=vocab, invert=True)\n",
      ">>> int_data = layer(data)\n",
      ">>> i_layer(int_data)\n",
      "<tf.Tensor: shape=(2, 3), dtype=string, numpy=\n",
      "array([[b'a', b'c', b'd'],\n",
      "       [b'd', b'[UNK]', b'b']], dtype=object)>\n",
      "\n",
      "In this example, the input value `\"z\"` resulted in an output of `\"[UNK]\"`,\n",
      "since 1000 was not in the vocabulary - it got represented as an OOV, and all\n",
      "OOV values are returned as `\"[UNK]\"` in the inverse layer. Also, note that\n",
      "for the inverse to work, you must have already set the forward layer\n",
      "vocabulary either directly or via `adapt()` before calling\n",
      "`get_vocabulary()`.\n",
      "\u001b[0;31mFile:\u001b[0m           ~/TheGitVerse/ClassStuffs/ClasseStuffs/lib/python3.9/site-packages/keras/layers/preprocessing/string_lookup.py\n",
      "\u001b[0;31mType:\u001b[0m           ABCMeta\n",
      "\u001b[0;31mSubclasses:\u001b[0m     "
     ]
    }
   ],
   "source": [
    "tf.keras.layers.experimental.preprocessing.StringLookup?"
   ]
  },
  {
   "cell_type": "code",
   "execution_count": 92,
   "metadata": {},
   "outputs": [
    {
     "data": {
      "text/plain": [
       "1"
      ]
     },
     "execution_count": 92,
     "metadata": {},
     "output_type": "execute_result"
    }
   ],
   "source": [
    "len(tf.config.list_physical_devices('CPU'))"
   ]
  },
  {
   "cell_type": "code",
   "execution_count": 91,
   "metadata": {},
   "outputs": [
    {
     "name": "stdout",
     "output_type": "stream",
     "text": [
      "Num GPUs Available:  1\n"
     ]
    }
   ],
   "source": [
    "import tensorflow as tf\n",
    "print(\"Num GPUs Available: \", len(tf.config.list_physical_devices('GPU')))"
   ]
  },
  {
   "cell_type": "code",
   "execution_count": null,
   "metadata": {},
   "outputs": [],
   "source": []
  }
 ],
 "metadata": {
  "kernelspec": {
   "display_name": "Python 3.9.16 ('ClasseStuffs': venv)",
   "language": "python",
   "name": "python3"
  },
  "language_info": {
   "codemirror_mode": {
    "name": "ipython",
    "version": 3
   },
   "file_extension": ".py",
   "mimetype": "text/x-python",
   "name": "python",
   "nbconvert_exporter": "python",
   "pygments_lexer": "ipython3",
   "version": "3.9.16"
  },
  "orig_nbformat": 4,
  "vscode": {
   "interpreter": {
    "hash": "104b8689142a13d8fe8791899be53676b5076657e11dc3c6f9d23937f9d01a00"
   }
  }
 },
 "nbformat": 4,
 "nbformat_minor": 2
}
