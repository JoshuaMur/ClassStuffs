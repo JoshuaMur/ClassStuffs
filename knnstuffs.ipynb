{
 "cells": [
  {
   "attachments": {},
   "cell_type": "markdown",
   "metadata": {},
   "source": [
    "This code implements a K-Nearest Neighbors (KNN) recommendation system. It starts by transforming the UserId and ItemId columns of the input data frame using LabelEncoder, which will encode the categorical values into numerical values. This is because the KNN algorithm only works with numerical data.\n",
    "\n",
    "Next, the code creates a user-item interaction matrix by pivoting the data frame on UserId and ItemId columns, with Touch as the values. The pivot function will create a matrix where the rows are UserId, the columns are ItemId, and the cells represent the interaction between User and Item. The fillna function is used to fill the NaN values with 0s. The resulting matrix is then converted into a sparse matrix using csr_matrix.\n",
    "\n",
    "The KNN model is then trained using the fit method on the user-item interaction matrix. The parameters 'metric' and 'algorithm' are set to 'cosine' and 'brute', respectively. The 'cosine' metric measures the cosine similarity between the items, which is a commonly used similarity metric for KNN recommendation systems. The 'brute' algorithm calculates the distances between all pairs of items, which can be slow for large datasets but is simple and straightforward to implement.\n",
    "\n",
    "The model's kneighbors method is then used to find the k nearest neighbors for each item in the interaction matrix. This method returns two arrays: 'distances' and 'indices'. The 'distances' array contains the distances between the items and their k nearest neighbors, while the 'indices' array contains the indices of the k nearest neighbors in the interaction matrix.\n",
    "\n",
    "The code then creates a dataframe with the UserId, 'indices', and 'distances' arrays, and uses the inverse_transform method of LabelEncoder to convert the encoded UserId and 'indices' back to their original values. This dataframe is returned as the final result of the knn_recommender function."
   ]
  },
  {
   "cell_type": "code",
   "execution_count": null,
   "metadata": {
    "vscode": {
     "languageId": "plaintext"
    }
   },
   "outputs": [],
   "source": [
    "from sklearn.preprocessing import LabelEncoder\n",
    "\n",
    "def knn_recommender(data, k=5):\n",
    "    # Label encode the UserId and ItemId columns\n",
    "    le_user = LabelEncoder()\n",
    "    le_item = LabelEncoder()\n",
    "    data['UserId'] = le_user.fit_transform(data['UserId'])\n",
    "    data['ItemId'] = le_item.fit_transform(data['ItemId'])\n",
    "\n",
    "    # Convert the dataframe into a sparse matrix\n",
    "    user_item_matrix = csr_matrix(data.pivot(index='UserId', columns='ItemId', values='Touch').fillna(0))\n",
    "\n",
    "    # Train the model\n",
    "    model = NearestNeighbors(metric='cosine', algorithm='brute', n_neighbors=k)\n",
    "    model.fit(user_item_matrix)\n",
    "\n",
    "    # Get the distances and indices of the k nearest neighbors\n",
    "    distances, indices = model.kneighbors(user_item_matrix, n_neighbors=k)\n",
    "\n",
    "    # Create a dataframe with the distances and indices\n",
    "    nearest_neighbors = pd.DataFrame({'UserId': data['UserId'],\n",
    "                                      'Indices': indices.tolist(),\n",
    "                                      'Distances': distances.tolist()})\n",
    "\n",
    "    # Inverse transform the UserId and ItemId columns to get the original values\n",
    "    nearest_neighbors['UserId'] = le_user.inverse_transform(nearest_neighbors['UserId'])\n",
    "    nearest_neighbors['Indices'] = nearest_neighbors['Indices'].apply(lambda x: le_item.inverse_transform(x))\n",
    "\n",
    "    return nearest_neighbors"
   ]
  },
  {
   "attachments": {},
   "cell_type": "markdown",
   "metadata": {},
   "source": [
    "Alright, all that correct, now I want you to write the recommendation code for that model\n",
    "Certainly! Here is the code that generates recommendations for the knn recommender model you provided:"
   ]
  },
  {
   "cell_type": "code",
   "execution_count": null,
   "metadata": {
    "vscode": {
     "languageId": "plaintext"
    }
   },
   "outputs": [],
   "source": [
    "def generate_recommendations(model, data, user_id, k=5):\n",
    "    # Transform the user_id to its encoded value\n",
    "    user_id = le_user.transform([user_id])[0]\n",
    "    \n",
    "    # Get the indices of the k nearest neighbors for the user_id\n",
    "    indices = model[model['UserId'] == user_id]['Indices'].iloc[0][:k]\n",
    "    \n",
    "    # Get the items that the user has already interacted with\n",
    "    items_interacted = data[data['UserId'] == user_id]['ItemId'].values\n",
    "    \n",
    "    # Remove the items that the user has already interacted with from the recommendations\n",
    "    recommendations = np.setdiff1d(indices, items_interacted)\n",
    "    \n",
    "    # Inverse transform the item ids to their original values\n",
    "    recommendations = le_item.inverse_transform(recommendations)\n",
    "    \n",
    "    return recommendations\n"
   ]
  },
  {
   "attachments": {},
   "cell_type": "markdown",
   "metadata": {},
   "source": [
    "The function generate_recommendations takes in the knn_recommender model, the original data, the user_id for which recommendations are to be generated, and the number of recommendations to be generated (k).\n",
    "\n",
    "First, the user_id is transformed to its encoded value.\n",
    "\n",
    "Next, the function gets the indices of the k nearest neighbors for the user_id from the nearest_neighbors dataframe.\n",
    "\n",
    "After that, the function finds the items that the user has already interacted with, and removes them from the recommendations list.\n",
    "\n",
    "Finally, the function inverse transforms the item ids to their original values and returns the recommendations list."
   ]
  },
  {
   "attachments": {},
   "cell_type": "markdown",
   "metadata": {},
   "source": [
    "Ok fine, now generate code to evaluate the model metrics with precision@k, recall@k, and mean squared error, F1 score\n",
    "Here is the code to evaluate the performance of the KNN recommender model using the metrics precision@k, recall@k, mean squared error (MSE) and F1 score:"
   ]
  },
  {
   "cell_type": "code",
   "execution_count": null,
   "metadata": {
    "vscode": {
     "languageId": "plaintext"
    }
   },
   "outputs": [],
   "source": [
    "from sklearn.metrics import mean_squared_error\n",
    "from sklearn.metrics import precision_recall_fscore_support\n",
    "\n",
    "def evaluate_recommender(data, nearest_neighbors, k=5):\n",
    "    # Get the actual interactions\n",
    "    actual_interactions = data.pivot(index='UserId', columns='ItemId', values='Touch').fillna(0)\n",
    "\n",
    "    # Create a dictionary with the UserId as the key and the ItemId as the value\n",
    "    user_item_dict = dict(zip(nearest_neighbors['UserId'], nearest_neighbors['Indices']))\n",
    "\n",
    "    # Initialize a dictionary to store the predicted interactions\n",
    "    predicted_interactions = {}\n",
    "\n",
    "    # Loop through the user_item_dict and get the k nearest neighbors for each user\n",
    "    for user, item in user_item_dict.items():\n",
    "        nearest_k = item[:k]\n",
    "        predicted_interactions[user] = [1 if i in nearest_k else 0 for i in actual_interactions.columns]\n",
    "\n",
    "    # Convert the predicted_interactions into a dataframe\n",
    "    predicted_interactions = pd.DataFrame(predicted_interactions).T\n",
    "\n",
    "    # Calculate the MSE\n",
    "    mse = mean_squared_error(actual_interactions, predicted_interactions)\n",
    "\n",
    "    # Calculate the precision@k, recall@k and F1 score\n",
    "    precision, recall, f1_score, _ = precision_recall_fscore_support(actual_interactions.values.ravel(), \n",
    "                                                                     predicted_interactions.values.ravel(), \n",
    "                                                                     average='binary')\n",
    "    \n",
    "    return {'Precision@k': precision, 'Recall@k': recall, 'MSE': mse, 'F1 Score': f1_score}\n"
   ]
  },
  {
   "cell_type": "code",
   "execution_count": null,
   "metadata": {
    "vscode": {
     "languageId": "plaintext"
    }
   },
   "outputs": [],
   "source": []
  }
 ],
 "metadata": {
  "language_info": {
   "name": "python"
  },
  "orig_nbformat": 4
 },
 "nbformat": 4,
 "nbformat_minor": 2
}
